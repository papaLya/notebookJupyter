{
 "cells": [
  {
   "cell_type": "markdown",
   "metadata": {
    "deletable": false,
    "editable": false
   },
   "source": [
    "\n",
    "\n",
    "\n",
    "---\n",
    "\n",
    "<h2 style=text-align:center > <span style = 'color:#FF7100'>Première NSI: Algorithmique 1 </span></h2>\n",
    "\n",
    "---\n",
    "\n",
    "   <h1  style=text-align:center'> <span style='color:#FF4500'>  Les tris de tableaux\n",
    "    <br>\n",
    "    Complexité en temps d'un algorithme \n",
    "   </span>\n",
    "   </h1>\n",
    "\n",
    "<p style='color:#FF7100; text-align:center'><em>Cours de Benjamin Raybaud, lycée La Fontaine de Niamey</em></p>\n",
    "\n",
    "---\n",
    "\n",
    "<img src=\"imageInsertLeçonTris.jpeg\" style=\"width:30em\" />\n",
    "\n",
    "---\n",
    "\n",
    "# <span style= 'color:#FF4500'>1. Problèmes</span>\n",
    "\n",
    "---\n",
    "\n",
    "**On se pose la question suivante : 'deux tableaux sont-ils égaux?'. <br>\n",
    "La première chose à signaler est que la question manque de précision:**\n",
    "\n",
    "<br>\n",
    "\n",
    "---\n",
    "\n",
    "#### Script python"
   ]
  },
  {
   "cell_type": "code",
   "execution_count": 1,
   "metadata": {
    "ExecuteTime": {
     "end_time": "2020-11-17T07:47:20.562176Z",
     "start_time": "2020-11-17T07:47:20.554563Z"
    },
    "deletable": false,
    "editable": false
   },
   "outputs": [
    {
     "name": "stdout",
     "output_type": "stream",
     "text": [
      "False\n",
      "False\n",
      "True\n"
     ]
    }
   ],
   "source": [
    "t1 = [1, 2, 1, 1]\n",
    "t2 = [2, 1 , 2, 2]\n",
    "t3 = [1, 2, 2, 2,] \n",
    "t4 = [1, 2, 2, 2]\n",
    "print(t1==t3) # t1 et t2 contiennent les mêmes valeurs (1 et 2) mais pas avec le même nombre d'occurences\n",
    "print(t2==t3) # t2 est t3 sont identiques à une permutation près\n",
    "print(t3==t4) # t3 et t4 contiennent les mêmes valeurs aux mêmes emplacements\n"
   ]
  },
  {
   "cell_type": "markdown",
   "metadata": {
    "deletable": false,
    "editable": false
   },
   "source": [
    "\n",
    "<br>\n",
    "\n",
    "### <span style='color:#FF7100'> **Activité 0**</span> \n",
    "\n",
    "**En observant les résultats ci-dessus, programmez une fonction *identiques(tableau1, tableau2)* qui ait le même résultat que l'opérateur *tableau1 == tableau2*. On restreint l'étude au cas où tableau1 et tableau2 sont de dimension 1 et sont de même taille.**\n",
    "\n",
    "---\n",
    "\n",
    "#### Script python"
   ]
  },
  {
   "cell_type": "code",
   "execution_count": null,
   "metadata": {},
   "outputs": [],
   "source": [
    "def identiques(t1, t2):\n",
    "    \"\"\"retourne True si les tableaux 1D et de même taille t1 et t2 contiennentt les mêmes  éléments \n",
    "    les mêmes valeurs aux mêmes emplacements, sinon renvoie False\"\"\"\n",
    "    pass"
   ]
  },
  {
   "cell_type": "markdown",
   "metadata": {
    "deletable": false,
    "editable": false
   },
   "source": [
    "<br>\n",
    "\n",
    " \n",
    "**Supposons qu'on cherche à savoir si deux tableaux d'entiers contiennent exactement les mêmes éléments, avec pour chacun d'eux le même nombre d'occurences. Dit plus simplement, seul l'ordre des éléments peut différer entre deux tableaux dits ''égaux''**.<br><br>\n",
    "On va commencer par vérifier qu'ils ont la même taille.<br>\n",
    "On peut vérifier si chacune des valeurs du tableau1 apparait dans le tableau2...mais on n'aura pas réglé le problème du nombre d'occurences.Dans notre exemple plus haut, *t1* et *t2* ne contiennent que des 1 et des 2, mais pas dans les mêmes quantités...le nombre d'occurences de 1 et de 2 ne sont pas les mêmes dans les deux tableaux\n",
    "<br>\n",
    "<br>\n",
    "Il existe divers algorithmes permettant d'obtenir la réponse.<br>\n",
    "**Une méthode simple consiste à trier les deux listes puis à utiliser la fonction comparerTableauxTries(t1,t2) suivante:**\n",
    "\n",
    "\n",
    "---\n",
    "\n",
    "#### Script python"
   ]
  },
  {
   "cell_type": "code",
   "execution_count": 2,
   "metadata": {
    "ExecuteTime": {
     "end_time": "2020-11-17T08:08:56.301610Z",
     "start_time": "2020-11-17T08:08:56.200964Z"
    }
   },
   "outputs": [
    {
     "name": "stdout",
     "output_type": "stream",
     "text": [
      "tableau1 = [2, 3, 8, 5, 10, 3, 7, 0, 5, 2, 7, 3, 1, 4, 1, 3, 8, 0, 10]\n",
      "tableau2 = [8, 3, 0, 10, 3, 5, 8, 3, 1, 3, 1, 10, 5, 2, 4, 2, 7, 7, 0]\n",
      "tableau3 = [8, 3, 0, 7, 10, 8, 3, 1, 5, 1, 10, 5, 3, 2, 4, 2, 7, 7, 0]\n",
      "\n",
      "On trie les tableaux:\n",
      "tableau1 = [0, 0, 1, 1, 2, 2, 3, 3, 3, 3, 4, 5, 5, 7, 7, 8, 8, 10, 10]\n",
      "tableau2 = [0, 0, 1, 1, 2, 2, 3, 3, 3, 3, 4, 5, 5, 7, 7, 8, 8, 10, 10]\n",
      "tableau3 = [0, 0, 1, 1, 2, 2, 3, 3, 3, 4, 5, 5, 7, 7, 7, 8, 8, 10, 10]\n",
      "\n"
     ]
    },
    {
     "ename": "NameError",
     "evalue": "name 'identiques' is not defined",
     "output_type": "error",
     "traceback": [
      "\u001b[0;31m---------------------------------------------------------------------------\u001b[0m",
      "\u001b[0;31mNameError\u001b[0m                                 Traceback (most recent call last)",
      "\u001b[0;32m<ipython-input-2-58a9045077da>\u001b[0m in \u001b[0;36m<module>\u001b[0;34m\u001b[0m\n\u001b[1;32m     14\u001b[0m \u001b[0;34m\u001b[0m\u001b[0m\n\u001b[1;32m     15\u001b[0m \u001b[0mprint\u001b[0m\u001b[0;34m(\u001b[0m\u001b[0;34m'tableau1 = {}'\u001b[0m\u001b[0;34m.\u001b[0m\u001b[0mformat\u001b[0m\u001b[0;34m(\u001b[0m\u001b[0mt1\u001b[0m\u001b[0;34m)\u001b[0m\u001b[0;34m,\u001b[0m\u001b[0;34m'tableau2 = {}'\u001b[0m\u001b[0;34m.\u001b[0m\u001b[0mformat\u001b[0m\u001b[0;34m(\u001b[0m\u001b[0mt2\u001b[0m\u001b[0;34m)\u001b[0m\u001b[0;34m,\u001b[0m\u001b[0;34m'tableau3 = {}'\u001b[0m\u001b[0;34m.\u001b[0m\u001b[0mformat\u001b[0m\u001b[0;34m(\u001b[0m\u001b[0mt3\u001b[0m\u001b[0;34m)\u001b[0m\u001b[0;34m,\u001b[0m\u001b[0;34m''\u001b[0m\u001b[0;34m,\u001b[0m\u001b[0msep\u001b[0m\u001b[0;34m=\u001b[0m\u001b[0;34m'\\n'\u001b[0m\u001b[0;34m)\u001b[0m\u001b[0;34m\u001b[0m\u001b[0;34m\u001b[0m\u001b[0m\n\u001b[0;32m---> 16\u001b[0;31m \u001b[0mprint\u001b[0m\u001b[0;34m(\u001b[0m\u001b[0;34m'tableau1 est \"égal\" au tableau2 :'\u001b[0m\u001b[0;34m,\u001b[0m \u001b[0mcompareTableauxTries\u001b[0m\u001b[0;34m(\u001b[0m\u001b[0mt1\u001b[0m\u001b[0;34m,\u001b[0m\u001b[0mt2\u001b[0m\u001b[0;34m)\u001b[0m\u001b[0;34m)\u001b[0m\u001b[0;34m\u001b[0m\u001b[0;34m\u001b[0m\u001b[0m\n\u001b[0m\u001b[1;32m     17\u001b[0m \u001b[0mprint\u001b[0m\u001b[0;34m(\u001b[0m\u001b[0;34m'tableau2 est \"égal\" au tableau3 :'\u001b[0m\u001b[0;34m,\u001b[0m \u001b[0mcompareTableauxTries\u001b[0m\u001b[0;34m(\u001b[0m\u001b[0mt2\u001b[0m\u001b[0;34m,\u001b[0m\u001b[0mt3\u001b[0m\u001b[0;34m)\u001b[0m\u001b[0;34m)\u001b[0m\u001b[0;34m\u001b[0m\u001b[0;34m\u001b[0m\u001b[0m\n",
      "\u001b[0;32m<ipython-input-2-58a9045077da>\u001b[0m in \u001b[0;36mcompareTableauxTries\u001b[0;34m(tableau1, tableau2)\u001b[0m\n\u001b[1;32m      1\u001b[0m \u001b[0;32mdef\u001b[0m \u001b[0mcompareTableauxTries\u001b[0m\u001b[0;34m(\u001b[0m\u001b[0mtableau1\u001b[0m\u001b[0;34m,\u001b[0m \u001b[0mtableau2\u001b[0m\u001b[0;34m)\u001b[0m\u001b[0;34m:\u001b[0m\u001b[0;34m\u001b[0m\u001b[0;34m\u001b[0m\u001b[0m\n\u001b[1;32m      2\u001b[0m     \u001b[0;34m\"\"\"compare deux tableaux triés de même longueur\"\"\"\u001b[0m\u001b[0;34m\u001b[0m\u001b[0;34m\u001b[0m\u001b[0m\n\u001b[0;32m----> 3\u001b[0;31m     \u001b[0;32mreturn\u001b[0m \u001b[0midentiques\u001b[0m\u001b[0;34m(\u001b[0m\u001b[0mtableau1\u001b[0m\u001b[0;34m,\u001b[0m \u001b[0mtableau2\u001b[0m\u001b[0;34m)\u001b[0m\u001b[0;34m\u001b[0m\u001b[0;34m\u001b[0m\u001b[0m\n\u001b[0m\u001b[1;32m      4\u001b[0m \u001b[0;34m\u001b[0m\u001b[0m\n\u001b[1;32m      5\u001b[0m \u001b[0mt1\u001b[0m \u001b[0;34m=\u001b[0m \u001b[0;34m[\u001b[0m\u001b[0;36m2\u001b[0m\u001b[0;34m,\u001b[0m\u001b[0;36m3\u001b[0m\u001b[0;34m,\u001b[0m\u001b[0;36m8\u001b[0m\u001b[0;34m,\u001b[0m\u001b[0;36m5\u001b[0m\u001b[0;34m,\u001b[0m\u001b[0;36m10\u001b[0m\u001b[0;34m,\u001b[0m\u001b[0;36m3\u001b[0m\u001b[0;34m,\u001b[0m\u001b[0;36m7\u001b[0m\u001b[0;34m,\u001b[0m\u001b[0;36m0\u001b[0m\u001b[0;34m,\u001b[0m\u001b[0;36m5\u001b[0m\u001b[0;34m,\u001b[0m\u001b[0;36m2\u001b[0m\u001b[0;34m,\u001b[0m\u001b[0;36m7\u001b[0m\u001b[0;34m,\u001b[0m\u001b[0;36m3\u001b[0m\u001b[0;34m,\u001b[0m\u001b[0;36m1\u001b[0m\u001b[0;34m,\u001b[0m\u001b[0;36m4\u001b[0m\u001b[0;34m,\u001b[0m\u001b[0;36m1\u001b[0m\u001b[0;34m,\u001b[0m\u001b[0;36m3\u001b[0m\u001b[0;34m,\u001b[0m\u001b[0;36m8\u001b[0m\u001b[0;34m,\u001b[0m\u001b[0;36m0\u001b[0m\u001b[0;34m,\u001b[0m\u001b[0;36m10\u001b[0m\u001b[0;34m]\u001b[0m\u001b[0;34m\u001b[0m\u001b[0;34m\u001b[0m\u001b[0m\n",
      "\u001b[0;31mNameError\u001b[0m: name 'identiques' is not defined"
     ]
    }
   ],
   "source": [
    "def compareTableauxTries(tableau1, tableau2):\n",
    "    \"\"\"compare deux tableaux triés de même longueur\"\"\"\n",
    "    return identiques(tableau1, tableau2)\n",
    "\n",
    "t1 = [2,3,8,5,10,3,7,0,5,2,7,3,1,4,1,3,8,0,10]\n",
    "t2 = [8,3,0,10,3,5,8,3,1,3,1,10,5,2,4,2,7,7,0]\n",
    "t3 = [8,3,0,7,10,8,3,1,5,1,10,5,3,2,4,2,7,7,0]\n",
    "print('tableau1 = {}'.format(t1),'tableau2 = {}'.format(t2),'tableau3 = {}'.format(t3),sep='\\n')\n",
    "\n",
    "print('\\nOn trie les tableaux:')\n",
    "t1.sort() #on trie les tableaux avec la méthode sort.Le tri des tableaux se fait en place\n",
    "t2.sort()\n",
    "t3.sort()\n",
    "\n",
    "print('tableau1 = {}'.format(t1),'tableau2 = {}'.format(t2),'tableau3 = {}'.format(t3),'',sep='\\n')\n",
    "print('tableau1 est \"égal\" au tableau2 :', compareTableauxTries(t1,t2))\n",
    "print('tableau2 est \"égal\" au tableau3 :', compareTableauxTries(t2,t3))\n"
   ]
  },
  {
   "cell_type": "markdown",
   "metadata": {
    "deletable": false,
    "editable": false
   },
   "source": [
    "\n",
    "<br>\n",
    "\n",
    "### <span style='color: #FF7100'>Autres applications du tri</span>\n",
    "**Trier un tableau de valeurs peut présenter de nombreux avantages:**\n",
    "<ul>\n",
    "    <li>pour déterminer la médiane du tableau </li>\n",
    "    <li>on peut rapidement savoir si une valeur fait partie ou pas du tableau(recherche dichotomique traitée dans le prochain chapitre)</li>\n",
    "    <li>on peut par exemple déterminer facilement quel élément du tableau est le plus fréquent</li>\n",
    "</ul>\n",
    "\n",
    "**De nombreux algorithmes s'appuient sur des données qui ont été triées au préalable.**\n",
    "\n",
    "<br>\n",
    "\n",
    "### <span style='color:#FF7100'> **Activité 1**</span> \n",
    "**Ecris une fonction *estCroissant(tableau)* qui renvoie True si le tableau 1D est bien rangé dans l'ordre croissant et False sinon**\n",
    "\n",
    "\n",
    "---\n",
    "\n",
    "#### Script python"
   ]
  },
  {
   "cell_type": "code",
   "execution_count": 1,
   "metadata": {
    "ExecuteTime": {
     "end_time": "2020-10-10T10:10:07.533811Z",
     "start_time": "2020-10-10T10:10:07.512079Z"
    }
   },
   "outputs": [
    {
     "name": "stdout",
     "output_type": "stream",
     "text": [
      "15\n",
      "None\n",
      "15\n",
      "None\n",
      "15\n",
      "None\n",
      "15\n",
      "None\n"
     ]
    }
   ],
   "source": [
    "def estCroissant(tableau):\n",
    "    \"\"\"la fonction retourne True si le tableau est rangé dans ordre croissant et False sinon\"\"\"\n",
    "    pass\n",
    "\n",
    "#on teste la fonction\n",
    "print(estCroissant([1,2,2,3,3,3,4,5,6])) #True\n",
    "print(estCroissant([1,2,4,3,5,6,7,8])) #False\n",
    "print(estCroissant(['zut','au revoir','bonjour', 'merci', \"s'il vous plait\" ])) #False\n",
    "print(estCroissant(['au revoir','bonjour', 'merci', \"s'il vous plait\", 'zut'])) #True"
   ]
  },
  {
   "cell_type": "markdown",
   "metadata": {
    "deletable": false,
    "editable": false
   },
   "source": [
    "\n",
    "\n",
    "***Remarque : Cette fonction servira à tester tes algorithmes de tris plus loin dans la leçon***\n",
    "\n",
    "<br>\n",
    "\n",
    "---\n",
    "# <span style='color:#FF4500'>2. Le Tri par sélection</span>\n",
    "---\n",
    "\n",
    "Pour trier un tableau de valeurs, on peut commencer à réfléchir à une fonction qui ramènerait la plus petite valeur du tableau à la première place du tableau en permutant *tableau[0]* et *tableau[indiceMin]*.<br>\n",
    "A la fin de cette étape le tableau à trier commence à l'indice 1...on peut recommencer à chercher le minimum sur la tranche de tableau à trier et ramener ce minimum par permutation en deuxième place du tableau, et ainsi de suite...<br>\n",
    "***Le tri par sélection parcourt le tableau de gauche à droite en maintenant sur la partie gauche du tableau un partie déja triée et contenant des éléments à leurs places définitives.***\n",
    "\n",
    "<img src=\"tri_selection1.png\" style=\"width:45em\" />\n",
    "\n",
    "**A chaque étape, on cherche le plus petit élément de la partie droite non triée, puis on l'échange avec l'élement le plus à gauche de la partie non triée.<br>**\n",
    "<img src=\"tri_selection2.jpg\" style=\"width:35em\" />\n",
    "\n",
    "<br>\n",
    "\n",
    "**Pour programmer ce tri, commençons par  nous munir d'une procédure *echange(t,i,j)* (vous l'avez programmé dans une précédent leçon) :**\n",
    "\n",
    "\n",
    "\n",
    "---\n",
    "\n",
    "#### Script python"
   ]
  },
  {
   "cell_type": "code",
   "execution_count": null,
   "metadata": {
    "deletable": false,
    "editable": false
   },
   "outputs": [],
   "source": [
    "def echange(t, i, j):\n",
    "    \"\"\"échange les valeurs d'indices i et j dans le tableau t\"\"\"\n",
    "    temp = t[i] # on mémorise la valeur t[i] dans la variable temp\n",
    "    t[i] = t[j] # t[j] écrase t[i]\n",
    "    t[j] = temp # on récupère la valeur t[i] avec temp\n",
    "    "
   ]
  },
  {
   "cell_type": "markdown",
   "metadata": {
    "deletable": false,
    "editable": false
   },
   "source": [
    "<br>\n",
    "\n",
    "**Etudions maintenant le pseudo-code de la procédure *triSelection(tableau)*:**\n",
    "\n",
    "---\n",
    "\n",
    "#### Pseudo-code\n",
    "```pseudo \n",
    "procédure TriSelection(tableau):\n",
    "    pour indiceDebut variant de 0 à longueur(liste)-2:\n",
    "         iMin = indice du minimum de la partie à trier\n",
    "         échanger les valeurs indicées par iMin et indiceDebut\n",
    "         --PindiceDebut : invariant de boucle\n",
    "```\n",
    "\n",
    "<br>\n",
    "\n",
    "<span style='color:#FF7100'>**Définition de l'invariant de boucle :** </span>\n",
    "    $ P_{indiceDebut} $  <br>\n",
    "> **les élèments d'indices 0, 1,... et *indiceDebut* sont rangés dans l'ordre croissant et ce sont les plus petits éléments du tableau'' </span>(par conséquent, les éléments de cette partie du tableau sont à leurs places définitives).**<br>  \n",
    "\n",
    "$ P_{indiceDebut} $  **est un invariant de la boucle, cela signifie qu'à chaque fin de tour de boucle l'assertion  $ P_{indiceDebut} $  est vraie, nous y reviendrons dans la prochaine leçon pour prouver la correction de cet algorithme...<br>**\n",
    " <br>        \n",
    "### <span style='color:#FF7100'> **Activité 2**</span>\n",
    "**Ecris une procédure *indMin(iDebut, tableau)* qui retourne l'indice de la valeur minimum dans la partie non triée  *tableau[iDebut .. len(tableau)]*** \n",
    "\n",
    "\n",
    "---\n",
    "\n",
    "#### Script python"
   ]
  },
  {
   "cell_type": "code",
   "execution_count": null,
   "metadata": {},
   "outputs": [],
   "source": [
    "def indMin(iDebut, tableau):\n",
    "    '''retourne l'indice du minimum des élement de la partie non triée du tableau \n",
    "    tableau[iDebut..]\n",
    "    >>> indMin(3, [1,0,10,6,7,4,7,12])\n",
    "    5'''\n",
    "    pass   \n",
    "\n",
    "print(indMin(5, [-1,1,0,2,10,6,7,4,7,12]))\n",
    "print(indMin(1, [-1,1,0,2,10,6,7,4,7,12]))\n"
   ]
  },
  {
   "cell_type": "markdown",
   "metadata": {
    "deletable": false,
    "editable": false
   },
   "source": [
    "<br>\n",
    "\n",
    "### <span style='color:#FF7100'> **Activité 3**</span> \n",
    " **Compléte la fonction triSelection en  t'appuyant sur les indications précédentes et l'animation ci-dessous:**\n",
    "<img src=\"selectionSort.gif\" style=\"width:40em\" />\n",
    "<br>\n",
    "\n",
    "---\n",
    "\n",
    "#### Script python"
   ]
  },
  {
   "cell_type": "code",
   "execution_count": null,
   "metadata": {},
   "outputs": [],
   "source": [
    "def triSelection(tableau):\n",
    "    \"\"\"Tri sur place le tableau dans l'ordre croissant\"\"\"\n",
    "    pass\n",
    "        \n",
    "\n",
    "table=[5,7,1,9,19,3,5,6]\n",
    "triSelection(table)\n",
    "print(table)\n"
   ]
  },
  {
   "cell_type": "markdown",
   "metadata": {
    "deletable": false,
    "editable": false
   },
   "source": [
    "<br>\n",
    "\n",
    "### <span style='color:#FF7100'> **Activité 4**</span>\n",
    "**Ecris une fonction *tableauAleatoire(nbElements, valMin,valMax)*, retournant un tableau de nombres alétoires contenant *nbElements* éléments dont les valeurs sont comprises entre *valMin* et *valMax***.\n",
    "\n",
    "\n",
    "\n",
    "---\n",
    "\n",
    "#### Script python"
   ]
  },
  {
   "cell_type": "code",
   "execution_count": null,
   "metadata": {},
   "outputs": [],
   "source": [
    "from random import randint\n",
    "\n",
    "def tableauAleatoire(nbElements, valMin, valMax):\n",
    "    pass\n",
    "\n",
    "for _ in range(3): \n",
    "    print(tableauAleatoire(10,-10,10))\n",
    " "
   ]
  },
  {
   "cell_type": "markdown",
   "metadata": {
    "deletable": false,
    "editable": false
   },
   "source": [
    "<br>\n",
    "\n",
    "**On va utiliser les fonctions précédentes pour tester votre fonction de tri par sélection:**\n",
    "\n",
    "\n",
    "---\n",
    "\n",
    "#### Script python"
   ]
  },
  {
   "cell_type": "code",
   "execution_count": null,
   "metadata": {},
   "outputs": [],
   "source": [
    "from random import randint\n",
    "\n",
    "nbSucces=0\n",
    "for _ in range(20):\n",
    "    tableau = tableauAleatoire(100, 0, 1000)\n",
    "    triSelection(tableau)\n",
    "    if estCroissant(tableau):\n",
    "        nbSucces = nbSucces+1\n",
    "        \n",
    "print('le nombre de succès sur les 20 tentatives est:', nbSucces)\n",
    "if nbSucces==20:\n",
    "    print(\"l'algorithme semble correct\")\n",
    "else:\n",
    "    print(\"on est certain que l'algorithme est faux en général\")\n",
    "   "
   ]
  },
  {
   "cell_type": "markdown",
   "metadata": {
    "deletable": false,
    "editable": false
   },
   "source": [
    "<br>\n",
    "\n",
    "**Lorsqu'on obtient le message 'l'algorithme semble correct', on peut être satisfait de son travail!**<br> \n",
    "Mais est-on certain que notre programme fait vraiment ce qu'on attend de lui en toute circonstance?<br>\n",
    "Si au lieu de tester mon programme sur 20 tableaux aléatoires différents, on le testait avec 10000 tableaux aléatoires de tailles bien plus grandes....cela marcherait-il aussi bien?<br>\n",
    "**Comment être certain de la fiabilité de ce programme?**<br> \n",
    "\n",
    "---\n",
    "# <span style='color:#FF4500'>3. Le Tri par insertion</span>\n",
    "\n",
    "---\n",
    "\n",
    "**Le tri par insertion repose sur un autre principe. Il consiste à maintenir une partie gauche rangée dans l'ordre croissant (de l'indice 0 à l'indice *i* : l'indice *i* variant de 1 à *len(tableau)-1*) et à insérer (par permutation) en première place de la partie à trier le plus petit élément de cette partie. <br>\n",
    "Ci-dessous nous disposons des différentes étapes de traitement du tri pas insertion:**\n",
    "- **en bleue la partie maintenue en ordre croissant,** \n",
    "- **en rouge la valeur à insérer à sa place dans la partie de gauche**\n",
    "- **en jaune la place où insérer la valeur rouge**\n",
    "\n",
    "<br>\n",
    "\n",
    "**Le premier élément à insérer est 3, on note que 18 est bien une partie rangée dans l'ordre croissant!**\n",
    "\n",
    "<br>\n",
    "\n",
    "<img src=\"tri_insertion_1.jpg\" style=\"width:35em\" />\n",
    "\n",
    "<br>\n",
    "\n",
    "- Au premier tour de boucle (*i=1*), on insère l'élément d'indice 1 à sa place dans la partie gauche qui ne contient qu'un élément (au début de l'algorithme, l'élément d'indice 0 est forcément rangé dans l'ordre croissant!).\n",
    "\n",
    "- Au deuxième tour de boucle (*i=2*),les deux premiers élèment du tableau sont rangés dans l'ordre croissant, on insère l'élément d'indice 2 à sa place dans la partie gauche du tableau afin qu'elle reste rangée dans l'ordre croissant.\n",
    "- ....et ainsi de de suite...\n",
    "- jusqu'au dernier tour de boucle, *i = len(tableau)-1*.\n",
    "\n",
    "Une fois ces *len(tableau)-1* étapes de traitement effectuées, le tableau est trié....nous le prouverons en TD lors de la prochaine leçon.<br>\n",
    "Nous allons programmer ce tri en décomposant le problème en sous problèmes.\n",
    "\n",
    "<br> \n",
    "\n",
    "<p style='color:#FF7100> <em>Observe  les situations ci-dessous:</em></p>\n",
    "<img src=\"schemaInsertion.png\" style=\"width:45em\" />\n",
    "\n",
    "<br>\n",
    "\n",
    "**Pour trier complètement le tableau il suffit d’insérer successivement ses éléments en commençant par le deuxième élément (indice 1) et en terminant par le dernier élément du tableau (indice *nbElements-1*).**\n",
    "\n",
    "<br>\n",
    "\n",
    "<img src=\"schemaInsertion2.png\" style=\"width:47em\" />\n",
    "\n",
    "**A chaque itération (insertion d'un nouvel élément), on passe d'une situation où l'invariant --$ P_i $ est vrai à une situation où --$ P_{i+1} $ est vrai:**\n",
    "\n",
    "<img src=\"schemaInsertion3.png\" style=\"width:35em\" />\n",
    "\n",
    "<br>\n",
    "\n",
    "**Observe l'animation du tri par insertion. Les éléments jaunes forments la partie triée du tableau, l'élement rouge est l'élément en court d'insertion...**\n",
    "<img src=\"insertionSort.gif\" style=\"width:25em\" />\n",
    "\n",
    "<br>\n",
    "\n",
    "### <span style='color:#FF7100'> **Activité 5**</span> \n",
    "**Programme la procédure *inserer(table,indiceValeur,valeur)* qui permet de ramener à sa place la valeur à insérer dans la partie gauche du tableau *table* supposé triée.**\n",
    "\n",
    "---\n",
    "\n",
    "#### Script python"
   ]
  },
  {
   "cell_type": "code",
   "execution_count": 2,
   "metadata": {},
   "outputs": [],
   "source": [
    "def inserer(table,  indiceValeur, valeur):\n",
    "    \"\"\"insère valeur situé à la case indiceValeur dans la partie du tableau\n",
    "    table[0..indiceValeur[ supposé triée \"\"\"\n",
    "    pass\n"
   ]
  },
  {
   "cell_type": "markdown",
   "metadata": {
    "deletable": false,
    "editable": false
   },
   "source": [
    "<br>\n",
    "\n",
    "**Pour obtenir la procédure *triInsertion*, il ne reste plus qu'à itérer sur les indices en utilisant la fonction *inserer*.**\n",
    "\n",
    "\n",
    "---\n",
    "\n",
    "#### Script python"
   ]
  },
  {
   "cell_type": "code",
   "execution_count": 3,
   "metadata": {},
   "outputs": [],
   "source": [
    "def triInsertion(table):\n",
    "    \"\"\"la procédure trie insertion trie le tableau table en place\"\"\"\n",
    "    for indice in range(1, len(table)):\n",
    "        # invariant de boucle: table[0,indice[ est trié\n",
    "        inserer(table, indice, table[indice])\n"
   ]
  },
  {
   "cell_type": "markdown",
   "metadata": {
    "deletable": false,
    "editable": false
   },
   "source": [
    "<br>\n",
    "\n",
    "### <span style='color:#FF7100'> **Activité 6**</span> \n",
    " **Ecris une programme permettant de tester la correction de la fonction triInsertion(table).**\n",
    " \n",
    " \n",
    " ---\n",
    " \n",
    " #### Script python"
   ]
  },
  {
   "cell_type": "code",
   "execution_count": null,
   "metadata": {},
   "outputs": [],
   "source": [
    "def fonctionTest():\n",
    "    pass"
   ]
  },
  {
   "cell_type": "markdown",
   "metadata": {
    "deletable": false,
    "editable": false
   },
   "source": [
    "<br>\n",
    "\n",
    "---\n",
    "# <span style='color:#FF4500'>4. Efficacité temporelle d'un algorithme: notion de complexité </span>\n",
    "\n",
    "---\n",
    "\n",
    "Il est légitime de se demander si les fonction de tris que nous avons programmées dans cette leçon offrent une façon efficace de trier un tableau de valeurs.<br>\n",
    "Pour mesurer cette efficacité, nous pourrions nous demander: quel temps (ou plutôt combien d'opérations élémentaires) faut-il à ces algorithmes pour trier un tableau de 1000 éléments, d'un million d'élements ou même plus encore?\n",
    "\n",
    "<br>\n",
    "\n",
    "## <span style='color:#FF7100'>4.a Efficacité temporelle du tri par sélection </span>\n",
    "<br>\n",
    "\n",
    "Pour mesurer la performance du tri par sélection, nous allons programmer une fonction permettant de mesurer le temps nécessaire pour trier des tableaux de nombres aléatoires de tailles différentes: 1000 éléments, 2000 éléments, 4000 éléments....Pour cela nous allons utiliser la fonction *testPerformanceTriSelection*: \n",
    "\n",
    "\n",
    "---\n",
    "\n",
    "#### Script python"
   ]
  },
  {
   "cell_type": "code",
   "execution_count": null,
   "metadata": {},
   "outputs": [],
   "source": [
    "from time import time\n",
    "\n",
    "listeTemps = [] #liste des images\n",
    "tailles = [1000, 2000, 4000, 6000, 8000,10000,12000, 16000, 20000] #liste des antécédents\n",
    "\n",
    "def testPerformanceTriSelection():\n",
    "    for tailleTableau in tailles:\n",
    "        tableau = tableauAleatoire(tailleTableau, -tailleTableau, tailleTableau)\n",
    "        start = time()\n",
    "        triSelection(tableau)\n",
    "        tempsTri = time() - start\n",
    "        listeTemps.append(tempsTri)\n",
    "    for indice in range(len(tailles)):\n",
    "        print('Pour trier par sélection un tableau de taille', tailles[indice], \n",
    "              'il a fallu', listeTemps[indice], 'secondes')\n",
    "testPerformanceTriSelection()\n",
    "#comptez une trentaine de seconde pour obtenir le résultat\n"
   ]
  },
  {
   "cell_type": "markdown",
   "metadata": {
    "deletable": false,
    "editable": false
   },
   "source": [
    "<br>\n",
    "\n",
    "**On constate que lorsqu'on double la taille du tableau, le temps d'exécution est plutôt multiplié par 4 que par 2...** si on quadruple la taille du tableau à trier, le temps d'exécution est multiplié approximativement par 16....<br> \n",
    "On peut représenter graphiquement ces résultats, grâce au module matplotlib:\n",
    "\n",
    "\n",
    "---\n",
    "\n",
    "#### Script python"
   ]
  },
  {
   "cell_type": "code",
   "execution_count": null,
   "metadata": {},
   "outputs": [],
   "source": [
    "from matplotlib import pyplot as plt\n",
    "plt.title('Complexité temporelle du tri par sélection')\n",
    "plt.xlabel('taille de la liste à trier')\n",
    "plt.ylabel('temps nécessaire en secondes')\n",
    "plt.plot(tailles,listeTemps, '-r', label=\"temps d'exécution tri sélection\")# plt.plot(tableauAntécédents, tableauImages, couleur, label=légende)construit la représentation graphique dans le repère en lissant la courbe entre les points donnés\n",
    "plt.legend(loc=\"upper left\") #pour placer la légende en haut à gauche de la représentation graphique\n",
    "plt.show() #pour afficher le repère et le graphique\n"
   ]
  },
  {
   "cell_type": "markdown",
   "metadata": {},
   "source": [
    "<br>\n",
    "\n",
    "**Cliquez sur le logo ci-dessous pour obtenir toutes les informations sur le module matplotlib:**\n",
    "\n",
    "<a href=\"http://www.python-simple.com/python-matplotlib/matplotlib-intro.php\"><img src=\"logoMatplotlib.png\" alt=\" pour tout savoir sur matplotlib, cliquer ici!\"/></a>\n",
    "\n",
    "L'allure de la représentation graphique de l'évolution du temps d'exécution en fonction de la taille de la liste n'est pas linéaire mais quadratique (fonction du second degré).<br>\n",
    "On peut comprendre ce phénomène en comptant le nombre d'opérations élémentaires nécessaires pour trier un tableau de taille *n* (on va négliger les échanges de valeurs, et compter seulement les cases du tableau traitées par ce tri):<br>\n",
    "- dans sa première étape, le tri par sélection parcourt tout le tableau pour trouver l'indice de la valeur minimum, en tout le tri par insertion doit évaluer ***n*** cases pour cette première étape.\n",
    "- dans la deuxième étape, le tri parcourt ***n-1*** cases pour trouver l'indice de la valeur minimale de la partie non triée du tableau.\n",
    "- 3ème étape: ***n-2*** cases..\n",
    "- etc\n",
    "- avant dernière étape: l'algorithme parcourt ***3*** cases pour trouver le minimum...\n",
    "- dernière étape: l'algorithme parcourt ***2*** cases  (le tableau est trié puis la valeur contenue par la dernière case est la plus grande valeur, nous y reviendrons dans la prochaine leçon)\n",
    "\n",
    "Si on omet le fait que lorsque les *n-1* premiers éléments sont à leurs places définitives, il est inutile de traiter le dernier élément, on peut ajouter une étape traitant cette dernière case. <br>\n",
    "Dans ce cas, le tri pas sélection évalue 1 case de plus ce qui en tout donne :<br>\n",
    "\n",
    "$$ n + (n-1) + (n-2) +...+ 3 + 2 + 1 = \\frac {n \\times (n+1)} {2} = 0,5n² + 0,5n $$ \n",
    "Pour un tableau de taille *n* le tri par sélection parcourt toujours $ 0,5n² + 0,5n $  *cases*.\n",
    "<br>\n",
    "Le nombre de cases qui doivent être éxaminées croit bien plus vite que $ n $.\n",
    "<br>\n",
    "Quand $ n $ devient grand,  $ 0,5n²+0,5n $ est voisin de  $ 0,5n² $  car  $ 0,5n $  devient négligeable devant  $ 0,5n^2 $  quand  $ n $  devient grand .\n",
    "<br>\n",
    "**Pour traduire cette idée, on dit que le tri par sélection a une complexité en temps en $ O(n²) $ .**<br>\n",
    "***Cette complexité en temps permet de comprendre l'allure parabolique (évolution quadratique du temps) de la représentation graphique du temps d'exécution en fonction de la taille du tableau.***\n",
    "\n",
    "<br>\n",
    "\n",
    "## <span style='color:#FF7100'>4.b Efficacité temporelle du tri par insertion </span>\n",
    "\n",
    "<br>\n",
    "\n",
    "### <span style='color:#FF7100'> **Activité 7**</span> \n",
    "Ecris un programme permettant de tester la complexité en temps du tri par insertion, puis représente graphiquement les temps d'exécution du tri par sélection, du tri par insertion et de la méthode sort dans un même repère.<br>\n",
    "On prendra soin de tester les tris sur les mêmes tableaux de nombres...<br>\n",
    "Calcule la complexité en temps du tri par insertion dans le pire des cas.<br>\n",
    "Que remarques-tu? Quel est le tri le plus performant?\n",
    "\n",
    "\n",
    "\n",
    "---\n",
    "\n",
    "#### Script python\n"
   ]
  },
  {
   "cell_type": "code",
   "execution_count": null,
   "metadata": {},
   "outputs": [],
   "source": [
    "listeTempsInsertion = [] #liste des images \n",
    "listeTempsSort = []\n",
    "taillesInsertion = [1000, 2000, 4000, 6000, 8000,10000,12000, 16000, 20000] #liste des antécédents\n",
    "\n",
    "def testPerformanceTriInsertion_sort():\n",
    "    pass\n",
    "\n",
    "testPerformanceTriInsertion()"
   ]
  },
  {
   "cell_type": "code",
   "execution_count": null,
   "metadata": {},
   "outputs": [],
   "source": [
    "def representationGraphiquesTris():\n",
    "    pass\n",
    "\n",
    "representationGraphiquesTris()"
   ]
  },
  {
   "cell_type": "markdown",
   "metadata": {
    "deletable": false,
    "editable": false
   },
   "source": [
    "---\n",
    "\n",
    "# <span style='color:#FF4500'>5. Le Tri à bulles (hors-programme)</span>\n",
    "\n",
    "---\n",
    "\n",
    "<br>\n",
    "\n",
    "## <span style='color:#FF7100'>5.a Implémentation et étude du tri à bulles </span>\n",
    "\n",
    "<br>\n",
    "\n",
    "**Observe l'animation du tri à bulles ci dessous. Les deux éléments verts sont les éléments en cours d'évaluation, les éléménts jaunes sont ceux à leurs places définitives:**\n",
    "<img src=\"bubbleSort.gif\" style=\"width:40em\" />\n",
    "\n",
    "<br>\n",
    "\n",
    "**Le principe de ce tri consiste à \"lancer successivement des bulles ascendantes\" qui ramènent la valeur maximale de la partie du tableau à trier en dernière position de la partie à trier. <br>Par conséquent, la taille de la partie à trier diminue bulle après bulle.**\n",
    "\n",
    "<br>\n",
    "\n",
    "### <span style='color:#FF7100'> ***Activité 8***</span> \n",
    "Programme une procédure *triBulles(tableau)*.<br>\n",
    "Représente graphiquement le temps d'exécution en fonction de la taille du tableau à trier.<br>\n",
    "Etudie la complexité de ce tri. Est-il plus performant que les tris précédents?\n",
    "\n",
    "\n",
    "---\n",
    "\n",
    "#### Script python"
   ]
  },
  {
   "cell_type": "code",
   "execution_count": null,
   "metadata": {},
   "outputs": [],
   "source": [
    "def triBulles(tableau):\n",
    "    pass\n",
    "\n",
    "#teste ta fonction\n",
    "table=[5,7,1,9,19,3,5,6]\n",
    "triBulles(table)\n",
    "print(table)"
   ]
  },
  {
   "cell_type": "markdown",
   "metadata": {
    "deletable": false,
    "editable": false
   },
   "source": [
    "<br>\n",
    "\n",
    "## <span style='color:#FF7100'>5.b Optimisation du tri à bulles: le shaker sort et le cocktail sort</span>\n",
    "\n",
    "<br>\n",
    "\n",
    "Le principe du tri shaker est de lancer alternativement des bulles ascendantes et descendantes dans la partie du tableau restant à trier.<br>\n",
    "Le tri cocktail-shaker ajoute une optimisation au tri shaker sort, on peut apercevoir cette optimisation dans l'animation ci dessous.<br>\n",
    "\n",
    "### <span style='color:#FF7100'>Animation du tri cocktail-shaker</span>:\n",
    "<img src=\"cocktail-shaker-sort-animation.gif\" style=\"width:30em\" />\n",
    "\n",
    "<br>\n",
    "\n",
    "---\n",
    "\n",
    "## <span style ='color:#FF4500'>6. Les meilleures animations de tri pour la NSI sont en ligne </span>\n",
    "\n",
    "---\n",
    "\n",
    "**Pour visualiser à votre guise les meilleures animation de tri, je vous invite à découvrir ce site en cours de développement :** <br>\n",
    "\n",
    "\n",
    "\n",
    "<a href=\"http://fred.boissac.free.fr/AnimsJS/Dariush_Tris/index.html\"><img src=\"logoDariush.jpeg\" style=\"width:10em\" alt=\"revoir url logoDariush.jpeg\"/></a> <br>\n",
    "\n",
    "Nous utiliserons ce site à plusieurs reprises pour étudier les algorithmes sur les tableaux, les piles, les files, les arbres, les graphes, la récursivité... En première et en terminale. \n",
    "Une petite visite de ce site n'est pas inutile à ce stade de l'année. Bon surf!\n",
    "\n",
    "<br>\n",
    "\n",
    "---\n",
    "\n",
    "## <span style ='color:#FF4500'>7. Mini-projet tris: </span> \n",
    "\n",
    "---\n",
    "\n",
    "***Présentation de l'étude des tris à bulles et de ses différentes optimisations. <br>\n",
    "Si un groupe d'élèves souhaite présenter ce projet, rapprochez vous de votre professeur pour obtenir une feuille vous permettant de construire la présentation.*** <br>\n",
    "On peut élargir les mini projets de tris à d'autres familles de tris, pourquoi pas des tris récursifs?\n",
    "\n",
    "<br>\n",
    "\n",
    "---\n",
    "\n",
    "## <span style ='color:#FF4500'>8. Défis France-IOI </span> \n",
    "\n",
    "---\n",
    "\n",
    "**Les exerices du niveau 3 chapitre 6 (les tris) sont recommandés aux élèves souhaitant poursuivre la spécialité en terminale.**"
   ]
  }
 ],
 "metadata": {
  "kernelspec": {
   "display_name": "Python 3",
   "language": "python",
   "name": "python3"
  },
  "language_info": {
   "codemirror_mode": {
    "name": "ipython",
    "version": 3
   },
   "file_extension": ".py",
   "mimetype": "text/x-python",
   "name": "python",
   "nbconvert_exporter": "python",
   "pygments_lexer": "ipython3",
   "version": "3.7.6"
  },
  "latex_envs": {
   "LaTeX_envs_menu_present": true,
   "autoclose": false,
   "autocomplete": true,
   "bibliofile": "biblio.bib",
   "cite_by": "apalike",
   "current_citInitial": 1,
   "eqLabelWithNumbers": true,
   "eqNumInitial": 1,
   "hotkeys": {
    "equation": "Ctrl-E",
    "itemize": "Ctrl-I"
   },
   "labels_anchors": false,
   "latex_user_defs": false,
   "report_style_numbering": false,
   "user_envs_cfg": false
  },
  "varInspector": {
   "cols": {
    "lenName": 16,
    "lenType": 16,
    "lenVar": 40
   },
   "kernels_config": {
    "python": {
     "delete_cmd_postfix": "",
     "delete_cmd_prefix": "del ",
     "library": "var_list.py",
     "varRefreshCmd": "print(var_dic_list())"
    },
    "r": {
     "delete_cmd_postfix": ") ",
     "delete_cmd_prefix": "rm(",
     "library": "var_list.r",
     "varRefreshCmd": "cat(var_dic_list()) "
    }
   },
   "types_to_exclude": [
    "module",
    "function",
    "builtin_function_or_method",
    "instance",
    "_Feature"
   ],
   "window_display": false
  }
 },
 "nbformat": 4,
 "nbformat_minor": 2
}
